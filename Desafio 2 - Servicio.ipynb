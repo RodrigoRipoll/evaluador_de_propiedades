{
 "cells": [
  {
   "cell_type": "code",
   "execution_count": 1,
   "metadata": {},
   "outputs": [],
   "source": [
    "import pandas as pd\n",
    "import numpy as np\n",
    "import pickle\n",
    "import json\n",
    "from flask import  Flask, request, jsonify\n",
    "from flask_cors import CORS"
   ]
  },
  {
   "cell_type": "code",
   "execution_count": 2,
   "metadata": {},
   "outputs": [],
   "source": [
    "# cargamos los datos Capital Federal --> features extras de cercanias por barrios\n",
    "dfbarrios = pd.read_csv('df41e_media_geograficas_por_barrios.csv', index_col='index',encoding='utf-8')\n",
    "\n",
    "# cargamos el modelo\n",
    "modelo = pickle.load(open(\"modelo.pkl\", \"rb\"))\n",
    "\n",
    "# cargamos el preprocesador\n",
    "preprocesador = pickle.load(open(\"preprocesador.pkl\", \"rb\"))"
   ]
  },
  {
   "cell_type": "code",
   "execution_count": 3,
   "metadata": {},
   "outputs": [
    {
     "data": {
      "text/plain": [
       "<flask_cors.extension.CORS at 0x1a5ca688d30>"
      ]
     },
     "execution_count": 3,
     "metadata": {},
     "output_type": "execute_result"
    }
   ],
   "source": [
    "# creamos la app y habilitamos los CORS (para poder realizar las request desde el HTML propio sin conflicto)\n",
    "app = Flask('Estimator')\n",
    "CORS(app)"
   ]
  },
  {
   "cell_type": "markdown",
   "metadata": {},
   "source": [
    "#### Primero correr las dos siguiente celdas (servicio y run de la app)\n",
    "### Usar el Estimador.html para acceder al Estimador y testear"
   ]
  },
  {
   "cell_type": "code",
   "execution_count": 4,
   "metadata": {},
   "outputs": [],
   "source": [
    "# creamos el servicio\n",
    "@app.route('/api/estimador',methods=['POST'])\n",
    "def predict2():\n",
    "    # obtengo los datos del request post\n",
    "    data = request.get_json(force=True) \n",
    "    \n",
    "    # lo convierto en un df\n",
    "    df_req = pd.DataFrame(data, index=range(1))\n",
    "    \n",
    "    # tomo las distancias que corresponden al barrio\n",
    "    barrio = dfbarrios.loc[[df_req.loc[0,'place_name']],:]\n",
    "    barrio['place_name'] = barrio.index\n",
    "    \n",
    "    # juntamos la data de ambos DF\n",
    "    df = df_req.merge(barrio, left_on='place_name', right_on='place_name', suffixes=('_left', '_right'))\n",
    "    df['surface_total_in_m2_t'] = 1/np.sqrt(int(df['surface_total_in_m2']))\n",
    "    \n",
    "    # corremos la prediccion\n",
    "    result = modelo.predict(preprocesador.transform(df[0:1]))\n",
    "    \n",
    "    return jsonify({'result': result[0].round(1)})"
   ]
  },
  {
   "cell_type": "code",
   "execution_count": null,
   "metadata": {},
   "outputs": [
    {
     "name": "stdout",
     "output_type": "stream",
     "text": [
      " * Serving Flask app \"Estimator\" (lazy loading)\n",
      " * Environment: production\n",
      "   WARNING: Do not use the development server in a production environment.\n",
      "   Use a production WSGI server instead.\n",
      " * Debug mode: off\n"
     ]
    },
    {
     "name": "stderr",
     "output_type": "stream",
     "text": [
      " * Running on http://0.0.0.0:5000/ (Press CTRL+C to quit)\n",
      "127.0.0.1 - - [07/May/2019 10:14:29] \"OPTIONS /api/estimador HTTP/1.1\" 200 -\n",
      "127.0.0.1 - - [07/May/2019 10:14:29] \"POST /api/estimador HTTP/1.1\" 200 -\n"
     ]
    }
   ],
   "source": [
    "app.run(host='0.0.0.0')"
   ]
  }
 ],
 "metadata": {
  "kernelspec": {
   "display_name": "Python 3",
   "language": "python",
   "name": "python3"
  },
  "language_info": {
   "codemirror_mode": {
    "name": "ipython",
    "version": 3
   },
   "file_extension": ".py",
   "mimetype": "text/x-python",
   "name": "python",
   "nbconvert_exporter": "python",
   "pygments_lexer": "ipython3",
   "version": "3.7.1"
  }
 },
 "nbformat": 4,
 "nbformat_minor": 2
}
