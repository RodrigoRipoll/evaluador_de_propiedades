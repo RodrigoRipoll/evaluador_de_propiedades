{
 "cells": [
  {
   "cell_type": "markdown",
   "metadata": {},
   "source": [
    "## Generamos y Evaluamos los modelos de ML"
   ]
  },
  {
   "cell_type": "code",
   "execution_count": 1,
   "metadata": {},
   "outputs": [],
   "source": [
    "import pandas as pd\n",
    "import numpy as np\n",
    "import warnings\n",
    "warnings.filterwarnings('ignore')"
   ]
  },
  {
   "cell_type": "code",
   "execution_count": 2,
   "metadata": {},
   "outputs": [],
   "source": [
    "datos = pd.read_csv(\"df41d_mapa_feateng_f2.csv\", index_col='index')"
   ]
  },
  {
   "cell_type": "code",
   "execution_count": 3,
   "metadata": {},
   "outputs": [],
   "source": [
    "y=datos.price_usd_per_m2\n",
    "X=datos.iloc[:,1:]"
   ]
  },
  {
   "cell_type": "code",
   "execution_count": 32,
   "metadata": {},
   "outputs": [
    {
     "data": {
      "text/html": [
       "<div>\n",
       "<style scoped>\n",
       "    .dataframe tbody tr th:only-of-type {\n",
       "        vertical-align: middle;\n",
       "    }\n",
       "\n",
       "    .dataframe tbody tr th {\n",
       "        vertical-align: top;\n",
       "    }\n",
       "\n",
       "    .dataframe thead th {\n",
       "        text-align: right;\n",
       "    }\n",
       "</style>\n",
       "<table border=\"1\" class=\"dataframe\">\n",
       "  <thead>\n",
       "    <tr style=\"text-align: right;\">\n",
       "      <th></th>\n",
       "      <th>property_type</th>\n",
       "      <th>place_name</th>\n",
       "      <th>surface_total_in_m2</th>\n",
       "      <th>surface_covered_in_m2</th>\n",
       "      <th>rooms</th>\n",
       "      <th>cercania_subtes</th>\n",
       "      <th>cercania_av</th>\n",
       "      <th>cercania_tren</th>\n",
       "      <th>cercania_bus</th>\n",
       "      <th>cercania_hospi</th>\n",
       "      <th>...</th>\n",
       "      <th>cant_univ</th>\n",
       "      <th>cant_edu</th>\n",
       "      <th>cant_banco</th>\n",
       "      <th>cant_gastro</th>\n",
       "      <th>cant_cult</th>\n",
       "      <th>cant_delito</th>\n",
       "      <th>surface_total_in_m2_t</th>\n",
       "      <th>cocheras</th>\n",
       "      <th>amenities_ex</th>\n",
       "      <th>estado</th>\n",
       "    </tr>\n",
       "    <tr>\n",
       "      <th>index</th>\n",
       "      <th></th>\n",
       "      <th></th>\n",
       "      <th></th>\n",
       "      <th></th>\n",
       "      <th></th>\n",
       "      <th></th>\n",
       "      <th></th>\n",
       "      <th></th>\n",
       "      <th></th>\n",
       "      <th></th>\n",
       "      <th></th>\n",
       "      <th></th>\n",
       "      <th></th>\n",
       "      <th></th>\n",
       "      <th></th>\n",
       "      <th></th>\n",
       "      <th></th>\n",
       "      <th></th>\n",
       "      <th></th>\n",
       "      <th></th>\n",
       "      <th></th>\n",
       "    </tr>\n",
       "  </thead>\n",
       "  <tbody>\n",
       "    <tr>\n",
       "      <th>0</th>\n",
       "      <td>PH</td>\n",
       "      <td>Mataderos</td>\n",
       "      <td>55.0</td>\n",
       "      <td>40.0</td>\n",
       "      <td>2.0</td>\n",
       "      <td>0.050246</td>\n",
       "      <td>0.003009</td>\n",
       "      <td>0.026301</td>\n",
       "      <td>0.027171</td>\n",
       "      <td>0.013671</td>\n",
       "      <td>...</td>\n",
       "      <td>0.0</td>\n",
       "      <td>5.0</td>\n",
       "      <td>0.0</td>\n",
       "      <td>0.0</td>\n",
       "      <td>2.0</td>\n",
       "      <td>89.0</td>\n",
       "      <td>0.134840</td>\n",
       "      <td>0</td>\n",
       "      <td>1.0</td>\n",
       "      <td>ninguno</td>\n",
       "    </tr>\n",
       "    <tr>\n",
       "      <th>1</th>\n",
       "      <td>apartment</td>\n",
       "      <td>Liniers</td>\n",
       "      <td>55.0</td>\n",
       "      <td>55.0</td>\n",
       "      <td>2.0</td>\n",
       "      <td>0.057926</td>\n",
       "      <td>0.003574</td>\n",
       "      <td>0.013199</td>\n",
       "      <td>0.013782</td>\n",
       "      <td>0.008378</td>\n",
       "      <td>...</td>\n",
       "      <td>0.0</td>\n",
       "      <td>4.0</td>\n",
       "      <td>1.0</td>\n",
       "      <td>0.0</td>\n",
       "      <td>1.0</td>\n",
       "      <td>86.0</td>\n",
       "      <td>0.134840</td>\n",
       "      <td>1</td>\n",
       "      <td>0.0</td>\n",
       "      <td>nuevo</td>\n",
       "    </tr>\n",
       "    <tr>\n",
       "      <th>2</th>\n",
       "      <td>apartment</td>\n",
       "      <td>Belgrano</td>\n",
       "      <td>45.0</td>\n",
       "      <td>40.0</td>\n",
       "      <td>1.0</td>\n",
       "      <td>0.010611</td>\n",
       "      <td>0.001280</td>\n",
       "      <td>0.005623</td>\n",
       "      <td>0.009783</td>\n",
       "      <td>0.006277</td>\n",
       "      <td>...</td>\n",
       "      <td>0.0</td>\n",
       "      <td>9.0</td>\n",
       "      <td>2.0</td>\n",
       "      <td>0.0</td>\n",
       "      <td>4.0</td>\n",
       "      <td>142.0</td>\n",
       "      <td>0.149071</td>\n",
       "      <td>0</td>\n",
       "      <td>0.0</td>\n",
       "      <td>ninguno</td>\n",
       "    </tr>\n",
       "    <tr>\n",
       "      <th>3</th>\n",
       "      <td>apartment</td>\n",
       "      <td>Palermo</td>\n",
       "      <td>50.0</td>\n",
       "      <td>30.0</td>\n",
       "      <td>2.0</td>\n",
       "      <td>0.001581</td>\n",
       "      <td>0.000892</td>\n",
       "      <td>0.001965</td>\n",
       "      <td>0.000953</td>\n",
       "      <td>0.018270</td>\n",
       "      <td>...</td>\n",
       "      <td>1.0</td>\n",
       "      <td>15.0</td>\n",
       "      <td>3.0</td>\n",
       "      <td>0.0</td>\n",
       "      <td>9.0</td>\n",
       "      <td>423.0</td>\n",
       "      <td>0.141421</td>\n",
       "      <td>0</td>\n",
       "      <td>1.0</td>\n",
       "      <td>ninguno</td>\n",
       "    </tr>\n",
       "    <tr>\n",
       "      <th>4</th>\n",
       "      <td>apartment</td>\n",
       "      <td>Palermo</td>\n",
       "      <td>42.0</td>\n",
       "      <td>31.0</td>\n",
       "      <td>1.0</td>\n",
       "      <td>0.001581</td>\n",
       "      <td>0.000892</td>\n",
       "      <td>0.001965</td>\n",
       "      <td>0.000953</td>\n",
       "      <td>0.018270</td>\n",
       "      <td>...</td>\n",
       "      <td>1.0</td>\n",
       "      <td>15.0</td>\n",
       "      <td>3.0</td>\n",
       "      <td>0.0</td>\n",
       "      <td>9.0</td>\n",
       "      <td>423.0</td>\n",
       "      <td>0.154303</td>\n",
       "      <td>0</td>\n",
       "      <td>0.0</td>\n",
       "      <td>ninguno</td>\n",
       "    </tr>\n",
       "  </tbody>\n",
       "</table>\n",
       "<p>5 rows × 27 columns</p>\n",
       "</div>"
      ],
      "text/plain": [
       "      property_type place_name  surface_total_in_m2  surface_covered_in_m2  \\\n",
       "index                                                                        \n",
       "0                PH  Mataderos                 55.0                   40.0   \n",
       "1         apartment    Liniers                 55.0                   55.0   \n",
       "2         apartment   Belgrano                 45.0                   40.0   \n",
       "3         apartment    Palermo                 50.0                   30.0   \n",
       "4         apartment    Palermo                 42.0                   31.0   \n",
       "\n",
       "       rooms  cercania_subtes  cercania_av  cercania_tren  cercania_bus  \\\n",
       "index                                                                     \n",
       "0        2.0         0.050246     0.003009       0.026301      0.027171   \n",
       "1        2.0         0.057926     0.003574       0.013199      0.013782   \n",
       "2        1.0         0.010611     0.001280       0.005623      0.009783   \n",
       "3        2.0         0.001581     0.000892       0.001965      0.000953   \n",
       "4        1.0         0.001581     0.000892       0.001965      0.000953   \n",
       "\n",
       "       cercania_hospi   ...     cant_univ  cant_edu  cant_banco  cant_gastro  \\\n",
       "index                   ...                                                    \n",
       "0            0.013671   ...           0.0       5.0         0.0          0.0   \n",
       "1            0.008378   ...           0.0       4.0         1.0          0.0   \n",
       "2            0.006277   ...           0.0       9.0         2.0          0.0   \n",
       "3            0.018270   ...           1.0      15.0         3.0          0.0   \n",
       "4            0.018270   ...           1.0      15.0         3.0          0.0   \n",
       "\n",
       "       cant_cult  cant_delito  surface_total_in_m2_t  cocheras  amenities_ex  \\\n",
       "index                                                                          \n",
       "0            2.0         89.0               0.134840         0           1.0   \n",
       "1            1.0         86.0               0.134840         1           0.0   \n",
       "2            4.0        142.0               0.149071         0           0.0   \n",
       "3            9.0        423.0               0.141421         0           1.0   \n",
       "4            9.0        423.0               0.154303         0           0.0   \n",
       "\n",
       "        estado  \n",
       "index           \n",
       "0      ninguno  \n",
       "1        nuevo  \n",
       "2      ninguno  \n",
       "3      ninguno  \n",
       "4      ninguno  \n",
       "\n",
       "[5 rows x 27 columns]"
      ]
     },
     "execution_count": 32,
     "metadata": {},
     "output_type": "execute_result"
    }
   ],
   "source": [
    "X.head()"
   ]
  },
  {
   "cell_type": "code",
   "execution_count": 5,
   "metadata": {},
   "outputs": [],
   "source": [
    "X.drop(['lat','lon','amenities'],axis=1,inplace=True)"
   ]
  },
  {
   "cell_type": "markdown",
   "metadata": {},
   "source": [
    "Analizamos los valores categoricos para luego verificar que al aplicar los procesos de transformacion durante el pipeline existe consistencia con la cantidad de columnas"
   ]
  },
  {
   "cell_type": "code",
   "execution_count": 6,
   "metadata": {},
   "outputs": [
    {
     "name": "stdout",
     "output_type": "stream",
     "text": [
      "<class 'pandas.core.frame.DataFrame'>\n",
      "Int64Index: 18957 entries, 0 to 20569\n",
      "Data columns (total 27 columns):\n",
      "property_type            18957 non-null object\n",
      "place_name               18957 non-null object\n",
      "surface_total_in_m2      18957 non-null float64\n",
      "surface_covered_in_m2    18957 non-null float64\n",
      "rooms                    18957 non-null float64\n",
      "cercania_subtes          18957 non-null float64\n",
      "cercania_av              18957 non-null float64\n",
      "cercania_tren            18957 non-null float64\n",
      "cercania_bus             18957 non-null float64\n",
      "cercania_hospi           18957 non-null float64\n",
      "cercania_est_edu         18957 non-null float64\n",
      "cercania_univ            18957 non-null float64\n",
      "cercania_comisarias      18957 non-null float64\n",
      "cercania_verde           18957 non-null float64\n",
      "cant_deptos              18957 non-null float64\n",
      "cant_subte               18957 non-null float64\n",
      "cant_hospi               18957 non-null float64\n",
      "cant_univ                18957 non-null float64\n",
      "cant_edu                 18957 non-null float64\n",
      "cant_banco               18957 non-null float64\n",
      "cant_gastro              18957 non-null float64\n",
      "cant_cult                18957 non-null float64\n",
      "cant_delito              18957 non-null float64\n",
      "surface_total_in_m2_t    18957 non-null float64\n",
      "cocheras                 18957 non-null int64\n",
      "amenities_ex             18957 non-null float64\n",
      "estado                   18957 non-null object\n",
      "dtypes: float64(23), int64(1), object(3)\n",
      "memory usage: 4.0+ MB\n"
     ]
    }
   ],
   "source": [
    "X.info()"
   ]
  },
  {
   "cell_type": "code",
   "execution_count": 7,
   "metadata": {},
   "outputs": [
    {
     "data": {
      "text/plain": [
       "27"
      ]
     },
     "execution_count": 7,
     "metadata": {},
     "output_type": "execute_result"
    }
   ],
   "source": [
    "len(X.columns)"
   ]
  },
  {
   "cell_type": "code",
   "execution_count": 8,
   "metadata": {},
   "outputs": [
    {
     "data": {
      "text/plain": [
       "48"
      ]
     },
     "execution_count": 8,
     "metadata": {},
     "output_type": "execute_result"
    }
   ],
   "source": [
    "X['place_name'].nunique()"
   ]
  },
  {
   "cell_type": "code",
   "execution_count": 9,
   "metadata": {},
   "outputs": [
    {
     "data": {
      "text/plain": [
       "2"
      ]
     },
     "execution_count": 9,
     "metadata": {},
     "output_type": "execute_result"
    }
   ],
   "source": [
    "X['property_type'].nunique()"
   ]
  },
  {
   "cell_type": "code",
   "execution_count": 10,
   "metadata": {},
   "outputs": [
    {
     "data": {
      "text/plain": [
       "4"
      ]
     },
     "execution_count": 10,
     "metadata": {},
     "output_type": "execute_result"
    }
   ],
   "source": [
    "X['estado'].nunique()"
   ]
  },
  {
   "cell_type": "code",
   "execution_count": 11,
   "metadata": {},
   "outputs": [
    {
     "data": {
      "text/plain": [
       "81"
      ]
     },
     "execution_count": 11,
     "metadata": {},
     "output_type": "execute_result"
    }
   ],
   "source": [
    "28-3+48+4+4"
   ]
  },
  {
   "cell_type": "markdown",
   "metadata": {},
   "source": [
    "## Dado que el Dataset con los features tiene un toatl de 16 columnas con 2 variables categoricas de las cuales:\n",
    "`place_name` contiene 48 valores unicos.  \n",
    "`property_type` posee 4 valores unicos.\n",
    "Entonces es de esperarse que la matriz final luego de aplicarle el onehot encoding tenga una total de __81__ (29 - 3 + 48 + 4 + 3) columnas"
   ]
  },
  {
   "cell_type": "markdown",
   "metadata": {},
   "source": [
    "### Pipelines\n",
    "\n",
    "Un pipeline de sklearn se define como una secuencia de pasos. Cada paso se define con una tupla de forma `[nombre del paso, transformador]`\n",
    "\n",
    "Por ejemplo, si queremos crear un pipeline que procese las variables numéricas, primero imputándolas y después estandarizandolas, y adicionalmente otro que procese las variables categoricas aplicandoles un Onehot enconding, para finalmente procesarlos con los estimadores seleccionados, entonces podriamos crear un pipeline de la siguiente manera:"
   ]
  },
  {
   "cell_type": "markdown",
   "metadata": {},
   "source": [
    "<img src=\"./media/pipeline.png\">"
   ]
  },
  {
   "cell_type": "code",
   "execution_count": 12,
   "metadata": {},
   "outputs": [],
   "source": [
    "from sklearn import preprocessing, feature_extraction\n",
    "from sklearn.pipeline import Pipeline\n",
    "from sklearn.impute import SimpleImputer\n",
    "from sklearn.preprocessing import StandardScaler, OneHotEncoder\n",
    "from sklearn.compose import ColumnTransformer\n",
    "from sklearn.model_selection import train_test_split\n",
    "from sklearn.model_selection import GridSearchCV\n",
    "from sklearn import metrics\n",
    "from sklearn.linear_model import LinearRegression, Ridge, Lasso, ElasticNet \n",
    "from sklearn import svm\n",
    "from sklearn import neighbors\n",
    "from sklearn import tree\n",
    "from sklearn.ensemble import RandomForestRegressor"
   ]
  },
  {
   "cell_type": "code",
   "execution_count": 13,
   "metadata": {},
   "outputs": [
    {
     "data": {
      "text/plain": [
       "Index(['surface_total_in_m2', 'surface_covered_in_m2', 'rooms',\n",
       "       'cercania_subtes', 'cercania_av', 'cercania_tren', 'cercania_bus',\n",
       "       'cercania_hospi', 'cercania_est_edu', 'cercania_univ',\n",
       "       'cercania_comisarias', 'cercania_verde', 'cant_deptos', 'cant_subte',\n",
       "       'cant_hospi', 'cant_univ', 'cant_edu', 'cant_banco', 'cant_gastro',\n",
       "       'cant_cult', 'cant_delito', 'surface_total_in_m2_t', 'cocheras',\n",
       "       'amenities_ex'],\n",
       "      dtype='object')"
      ]
     },
     "metadata": {},
     "output_type": "display_data"
    },
    {
     "data": {
      "text/plain": [
       "Index(['property_type', 'place_name', 'estado'], dtype='object')"
      ]
     },
     "metadata": {},
     "output_type": "display_data"
    }
   ],
   "source": [
    "# Defino array con las columnas numericas \n",
    "numeric_features = X.select_dtypes(include=['int64', 'float64']).columns\n",
    "# Defino array con las columnas categoricas\n",
    "categorical_features = X.select_dtypes(include=['object']).columns\n",
    "\n",
    "display(numeric_features)\n",
    "display(categorical_features)\n",
    "\n",
    "# generamos un pipeline para trabajar con los features numericos (int y float)\n",
    "numeric_transformer = Pipeline(steps=[\n",
    "    ('imputer', SimpleImputer(strategy='median')),\n",
    "    ('scaler', StandardScaler())])\n",
    "\n",
    "# generamos un pipeline para trabajar con los features categoricos (object)\n",
    "categorical_transformer = Pipeline(steps=[\n",
    "    ('imputer', SimpleImputer(strategy='constant', fill_value='missing')),\n",
    "    ('onehot', OneHotEncoder(handle_unknown='ignore'))])\n",
    "\n",
    "# creamos un pipeline para separar los datos en numericos y categoricos y aplicarle los correspondientes\n",
    "# pipelines antes generados.\n",
    "preprocessor = ColumnTransformer(\n",
    "    transformers=[\n",
    "        ('num', numeric_transformer, numeric_features),\n",
    "        ('cat', categorical_transformer, categorical_features)])\n"
   ]
  },
  {
   "cell_type": "code",
   "execution_count": 14,
   "metadata": {},
   "outputs": [
    {
     "data": {
      "text/plain": [
       "78"
      ]
     },
     "execution_count": 14,
     "metadata": {},
     "output_type": "execute_result"
    }
   ],
   "source": [
    "# probamos los pipelines recien creados\n",
    "test = preprocessor.fit(X).transform(X)\n",
    "len(test[0])"
   ]
  },
  {
   "cell_type": "markdown",
   "metadata": {},
   "source": [
    "El numero anterior coincide con el caclulo que habiamos realizado anteriormente al comienzo de la notebook donde calculabamos el numero final de columnas de la matriz de datos una vez implementado el onehot encoding. Por ende los pipeline estan funcionando correctamente."
   ]
  },
  {
   "cell_type": "markdown",
   "metadata": {},
   "source": [
    "### Seleccion de Modelo e hiperparametros\n",
    "Un pipeline tambien puede utilizarse durante el proceso de seleccion de modelo y ajuste de hiperparametros. El siguiente codigo itera entre varios Regresores, habiendo aplicado previamente las transformaciones a las variables categoricas y numericas."
   ]
  },
  {
   "cell_type": "markdown",
   "metadata": {},
   "source": [
    "Mediante el uso de grid search se puede hallar los hiperparametros que obtienen mejorers resultados. "
   ]
  },
  {
   "cell_type": "code",
   "execution_count": 15,
   "metadata": {},
   "outputs": [
    {
     "name": "stdout",
     "output_type": "stream",
     "text": [
      "\n",
      "LinearRegression(copy_X=True, fit_intercept=True, n_jobs=None,\n",
      "         normalize=False)\n",
      "model score: 0.612\n",
      "\n",
      "GridSearchCV(cv=5, error_score='raise-deprecating',\n",
      "       estimator=Ridge(alpha=1.0, copy_X=True, fit_intercept=True, max_iter=None,\n",
      "   normalize=False, random_state=None, solver='auto', tol=0.001),\n",
      "       fit_params=None, iid='warn', n_jobs=None,\n",
      "       param_grid={'alpha': array([1.5    , 1.55556, 1.61111, 1.66667, 1.72222, 1.77778, 1.83333,\n",
      "       1.88889, 1.94444, 2.     ])},\n",
      "       pre_dispatch='2*n_jobs', refit=True, return_train_score='warn',\n",
      "       scoring=None, verbose=0)\n",
      "model score: 0.614\n",
      "\n",
      "GridSearchCV(cv=5, error_score='raise-deprecating',\n",
      "       estimator=Lasso(alpha=1.0, copy_X=True, fit_intercept=True, max_iter=1000,\n",
      "   normalize=False, positive=False, precompute=False, random_state=None,\n",
      "   selection='cyclic', tol=0.0001, warm_start=False),\n",
      "       fit_params=None, iid='warn', n_jobs=None,\n",
      "       param_grid={'alpha': array([0.015, 0.016, 0.017, 0.018, 0.019])},\n",
      "       pre_dispatch='2*n_jobs', refit=True, return_train_score='warn',\n",
      "       scoring=None, verbose=0)\n",
      "model score: 0.614\n",
      "\n",
      "GridSearchCV(cv=5, error_score='raise-deprecating',\n",
      "       estimator=ElasticNet(alpha=1.0, copy_X=True, fit_intercept=True, l1_ratio=0.5,\n",
      "      max_iter=1000, normalize=False, positive=False, precompute=False,\n",
      "      random_state=None, selection='cyclic', tol=0.0001, warm_start=False),\n",
      "       fit_params=None, iid='warn', n_jobs=None,\n",
      "       param_grid={'alpha': array([0.001 , 0.0019, 0.0028, 0.0037, 0.0046, 0.0055, 0.0064, 0.0073,\n",
      "       0.0082, 0.0091])},\n",
      "       pre_dispatch='2*n_jobs', refit=True, return_train_score='warn',\n",
      "       scoring=None, verbose=0)\n",
      "model score: 0.613\n",
      "\n",
      "GridSearchCV(cv=5, error_score='raise-deprecating',\n",
      "       estimator=DecisionTreeRegressor(criterion='mse', max_depth=None, max_features=None,\n",
      "           max_leaf_nodes=None, min_impurity_decrease=0.0,\n",
      "           min_impurity_split=None, min_samples_leaf=1,\n",
      "           min_samples_split=2, min_weight_fraction_leaf=0.0,\n",
      "           presort=False, random_state=None, splitter='best'),\n",
      "       fit_params=None, iid='warn', n_jobs=None,\n",
      "       param_grid={'max_depth': [20]}, pre_dispatch='2*n_jobs', refit=True,\n",
      "       return_train_score='warn', scoring=None, verbose=0)\n",
      "model score: 0.548\n",
      "\n",
      "GridSearchCV(cv=5, error_score='raise-deprecating',\n",
      "       estimator=RandomForestRegressor(bootstrap=True, criterion='mse', max_depth=None,\n",
      "           max_features='auto', max_leaf_nodes=None,\n",
      "           min_impurity_decrease=0.0, min_impurity_split=None,\n",
      "           min_samples_leaf=1, min_samples_split=2,\n",
      "           min_weight_fraction_leaf=0.0, n_estimators='warn', n_jobs=None,\n",
      "           oob_score=False, random_state=None, verbose=0, warm_start=False),\n",
      "       fit_params=None, iid='warn', n_jobs=None,\n",
      "       param_grid={'n_estimators': array([100, 105]), 'max_depth': [20, 25]},\n",
      "       pre_dispatch='2*n_jobs', refit=True, return_train_score='warn',\n",
      "       scoring=None, verbose=0)\n",
      "model score: 0.725\n"
     ]
    }
   ],
   "source": [
    "X_train, X_test, y_train, y_test = train_test_split(X, y, test_size=0.33, random_state=1000)\n",
    "\n",
    "ridge_params = {'alpha':np.linspace(1.5, 2, num=10, endpoint=True)}\n",
    "lasso_params = {'alpha':np.linspace(0.015, 0.02, num=5, endpoint=False)}\n",
    "en_params = {'alpha':np.linspace(0.001, 0.01, num=10, endpoint=False)}\n",
    "dt_params = {'max_depth':[20]}\n",
    "rf_params = {'n_estimators':np.arange(100,110,5),'max_depth':[20,25]}\n",
    "\n",
    "classifiers = [\n",
    "    LinearRegression(), \n",
    "    GridSearchCV(cv=5, estimator=Ridge(), param_grid=ridge_params), \n",
    "    GridSearchCV(cv=5, estimator=Lasso(), param_grid=lasso_params),\n",
    "    GridSearchCV(cv=5, estimator=ElasticNet(), param_grid=en_params),\n",
    "    GridSearchCV(cv=5, estimator=tree.DecisionTreeRegressor(), param_grid=dt_params),\n",
    "    GridSearchCV(cv=5, estimator=RandomForestRegressor(), param_grid=rf_params)\n",
    "    #svm.SVR(),\n",
    "    #tree.DecisionTreeRegressor(max_depth=15)\n",
    "]\n",
    "\n",
    "for classifier in classifiers:\n",
    "    pipe = Pipeline(steps=[('preprocessor', preprocessor),\n",
    "                      ('classifier', classifier)])\n",
    "    pipe.fit(X_train, y_train)   \n",
    "    print()\n",
    "    print(classifier)\n",
    "    print(\"model score: %.3f\" % pipe.score(X_test, y_test))\n"
   ]
  },
  {
   "cell_type": "code",
   "execution_count": 16,
   "metadata": {},
   "outputs": [
    {
     "data": {
      "text/html": [
       "<div>\n",
       "<style scoped>\n",
       "    .dataframe tbody tr th:only-of-type {\n",
       "        vertical-align: middle;\n",
       "    }\n",
       "\n",
       "    .dataframe tbody tr th {\n",
       "        vertical-align: top;\n",
       "    }\n",
       "\n",
       "    .dataframe thead th {\n",
       "        text-align: right;\n",
       "    }\n",
       "</style>\n",
       "<table border=\"1\" class=\"dataframe\">\n",
       "  <thead>\n",
       "    <tr style=\"text-align: right;\">\n",
       "      <th></th>\n",
       "      <th>mean_test_score</th>\n",
       "      <th>std_test_score</th>\n",
       "      <th>params</th>\n",
       "    </tr>\n",
       "  </thead>\n",
       "  <tbody>\n",
       "    <tr>\n",
       "      <th>0</th>\n",
       "      <td>0.626861</td>\n",
       "      <td>0.010249</td>\n",
       "      <td>{'alpha': 1.5}</td>\n",
       "    </tr>\n",
       "    <tr>\n",
       "      <th>1</th>\n",
       "      <td>0.626853</td>\n",
       "      <td>0.010243</td>\n",
       "      <td>{'alpha': 1.5555555555555556}</td>\n",
       "    </tr>\n",
       "    <tr>\n",
       "      <th>2</th>\n",
       "      <td>0.626846</td>\n",
       "      <td>0.010238</td>\n",
       "      <td>{'alpha': 1.6111111111111112}</td>\n",
       "    </tr>\n",
       "    <tr>\n",
       "      <th>3</th>\n",
       "      <td>0.626838</td>\n",
       "      <td>0.010232</td>\n",
       "      <td>{'alpha': 1.6666666666666667}</td>\n",
       "    </tr>\n",
       "    <tr>\n",
       "      <th>4</th>\n",
       "      <td>0.626830</td>\n",
       "      <td>0.010226</td>\n",
       "      <td>{'alpha': 1.7222222222222223}</td>\n",
       "    </tr>\n",
       "  </tbody>\n",
       "</table>\n",
       "</div>"
      ],
      "text/plain": [
       "   mean_test_score  std_test_score                         params\n",
       "0         0.626861        0.010249                 {'alpha': 1.5}\n",
       "1         0.626853        0.010243  {'alpha': 1.5555555555555556}\n",
       "2         0.626846        0.010238  {'alpha': 1.6111111111111112}\n",
       "3         0.626838        0.010232  {'alpha': 1.6666666666666667}\n",
       "4         0.626830        0.010226  {'alpha': 1.7222222222222223}"
      ]
     },
     "metadata": {},
     "output_type": "display_data"
    }
   ],
   "source": [
    "df_ridge = pd.DataFrame(classifiers[1].cv_results_)[['mean_test_score', 'std_test_score', 'params']].sort_values(by=['mean_test_score'], ascending=False)\n",
    "display(df_ridge.head())"
   ]
  },
  {
   "cell_type": "code",
   "execution_count": 17,
   "metadata": {},
   "outputs": [
    {
     "data": {
      "text/html": [
       "<div>\n",
       "<style scoped>\n",
       "    .dataframe tbody tr th:only-of-type {\n",
       "        vertical-align: middle;\n",
       "    }\n",
       "\n",
       "    .dataframe tbody tr th {\n",
       "        vertical-align: top;\n",
       "    }\n",
       "\n",
       "    .dataframe thead th {\n",
       "        text-align: right;\n",
       "    }\n",
       "</style>\n",
       "<table border=\"1\" class=\"dataframe\">\n",
       "  <thead>\n",
       "    <tr style=\"text-align: right;\">\n",
       "      <th></th>\n",
       "      <th>mean_test_score</th>\n",
       "      <th>std_test_score</th>\n",
       "      <th>params</th>\n",
       "    </tr>\n",
       "  </thead>\n",
       "  <tbody>\n",
       "    <tr>\n",
       "      <th>1</th>\n",
       "      <td>0.626956</td>\n",
       "      <td>0.010365</td>\n",
       "      <td>{'alpha': 0.016}</td>\n",
       "    </tr>\n",
       "    <tr>\n",
       "      <th>2</th>\n",
       "      <td>0.626956</td>\n",
       "      <td>0.010363</td>\n",
       "      <td>{'alpha': 0.017}</td>\n",
       "    </tr>\n",
       "    <tr>\n",
       "      <th>3</th>\n",
       "      <td>0.626956</td>\n",
       "      <td>0.010361</td>\n",
       "      <td>{'alpha': 0.018000000000000002}</td>\n",
       "    </tr>\n",
       "    <tr>\n",
       "      <th>0</th>\n",
       "      <td>0.626955</td>\n",
       "      <td>0.010366</td>\n",
       "      <td>{'alpha': 0.015}</td>\n",
       "    </tr>\n",
       "    <tr>\n",
       "      <th>4</th>\n",
       "      <td>0.626955</td>\n",
       "      <td>0.010359</td>\n",
       "      <td>{'alpha': 0.019}</td>\n",
       "    </tr>\n",
       "  </tbody>\n",
       "</table>\n",
       "</div>"
      ],
      "text/plain": [
       "   mean_test_score  std_test_score                           params\n",
       "1         0.626956        0.010365                 {'alpha': 0.016}\n",
       "2         0.626956        0.010363                 {'alpha': 0.017}\n",
       "3         0.626956        0.010361  {'alpha': 0.018000000000000002}\n",
       "0         0.626955        0.010366                 {'alpha': 0.015}\n",
       "4         0.626955        0.010359                 {'alpha': 0.019}"
      ]
     },
     "metadata": {},
     "output_type": "display_data"
    }
   ],
   "source": [
    "df_lasso = pd.DataFrame(classifiers[2].cv_results_)[['mean_test_score', 'std_test_score', 'params']].sort_values(by=['mean_test_score'], ascending=False)\n",
    "display(df_lasso.head())"
   ]
  },
  {
   "cell_type": "code",
   "execution_count": 18,
   "metadata": {},
   "outputs": [
    {
     "data": {
      "text/html": [
       "<div>\n",
       "<style scoped>\n",
       "    .dataframe tbody tr th:only-of-type {\n",
       "        vertical-align: middle;\n",
       "    }\n",
       "\n",
       "    .dataframe tbody tr th {\n",
       "        vertical-align: top;\n",
       "    }\n",
       "\n",
       "    .dataframe thead th {\n",
       "        text-align: right;\n",
       "    }\n",
       "</style>\n",
       "<table border=\"1\" class=\"dataframe\">\n",
       "  <thead>\n",
       "    <tr style=\"text-align: right;\">\n",
       "      <th></th>\n",
       "      <th>mean_test_score</th>\n",
       "      <th>std_test_score</th>\n",
       "      <th>params</th>\n",
       "    </tr>\n",
       "  </thead>\n",
       "  <tbody>\n",
       "    <tr>\n",
       "      <th>0</th>\n",
       "      <td>0.626086</td>\n",
       "      <td>0.009925</td>\n",
       "      <td>{'alpha': 0.001}</td>\n",
       "    </tr>\n",
       "    <tr>\n",
       "      <th>1</th>\n",
       "      <td>0.624547</td>\n",
       "      <td>0.009624</td>\n",
       "      <td>{'alpha': 0.0019000000000000002}</td>\n",
       "    </tr>\n",
       "    <tr>\n",
       "      <th>2</th>\n",
       "      <td>0.622584</td>\n",
       "      <td>0.009395</td>\n",
       "      <td>{'alpha': 0.0028000000000000004}</td>\n",
       "    </tr>\n",
       "    <tr>\n",
       "      <th>3</th>\n",
       "      <td>0.620313</td>\n",
       "      <td>0.009212</td>\n",
       "      <td>{'alpha': 0.0037}</td>\n",
       "    </tr>\n",
       "    <tr>\n",
       "      <th>4</th>\n",
       "      <td>0.617818</td>\n",
       "      <td>0.009061</td>\n",
       "      <td>{'alpha': 0.0046}</td>\n",
       "    </tr>\n",
       "  </tbody>\n",
       "</table>\n",
       "</div>"
      ],
      "text/plain": [
       "   mean_test_score  std_test_score                            params\n",
       "0         0.626086        0.009925                  {'alpha': 0.001}\n",
       "1         0.624547        0.009624  {'alpha': 0.0019000000000000002}\n",
       "2         0.622584        0.009395  {'alpha': 0.0028000000000000004}\n",
       "3         0.620313        0.009212                 {'alpha': 0.0037}\n",
       "4         0.617818        0.009061                 {'alpha': 0.0046}"
      ]
     },
     "metadata": {},
     "output_type": "display_data"
    }
   ],
   "source": [
    "df_en = pd.DataFrame(classifiers[3].cv_results_)[['mean_test_score', 'std_test_score', 'params']].sort_values(by=['mean_test_score'], ascending=False)\n",
    "display(df_en.head())"
   ]
  },
  {
   "cell_type": "code",
   "execution_count": 19,
   "metadata": {},
   "outputs": [
    {
     "data": {
      "text/html": [
       "<div>\n",
       "<style scoped>\n",
       "    .dataframe tbody tr th:only-of-type {\n",
       "        vertical-align: middle;\n",
       "    }\n",
       "\n",
       "    .dataframe tbody tr th {\n",
       "        vertical-align: top;\n",
       "    }\n",
       "\n",
       "    .dataframe thead th {\n",
       "        text-align: right;\n",
       "    }\n",
       "</style>\n",
       "<table border=\"1\" class=\"dataframe\">\n",
       "  <thead>\n",
       "    <tr style=\"text-align: right;\">\n",
       "      <th></th>\n",
       "      <th>mean_test_score</th>\n",
       "      <th>std_test_score</th>\n",
       "      <th>params</th>\n",
       "    </tr>\n",
       "  </thead>\n",
       "  <tbody>\n",
       "    <tr>\n",
       "      <th>0</th>\n",
       "      <td>0.541817</td>\n",
       "      <td>0.027263</td>\n",
       "      <td>{'max_depth': 20}</td>\n",
       "    </tr>\n",
       "  </tbody>\n",
       "</table>\n",
       "</div>"
      ],
      "text/plain": [
       "   mean_test_score  std_test_score             params\n",
       "0         0.541817        0.027263  {'max_depth': 20}"
      ]
     },
     "metadata": {},
     "output_type": "display_data"
    }
   ],
   "source": [
    "df_dt = pd.DataFrame(classifiers[4].cv_results_)[['mean_test_score', 'std_test_score', 'params']].sort_values(by=['mean_test_score'], ascending=False)\n",
    "display(df_dt.head())"
   ]
  },
  {
   "cell_type": "code",
   "execution_count": 20,
   "metadata": {},
   "outputs": [
    {
     "data": {
      "text/html": [
       "<div>\n",
       "<style scoped>\n",
       "    .dataframe tbody tr th:only-of-type {\n",
       "        vertical-align: middle;\n",
       "    }\n",
       "\n",
       "    .dataframe tbody tr th {\n",
       "        vertical-align: top;\n",
       "    }\n",
       "\n",
       "    .dataframe thead th {\n",
       "        text-align: right;\n",
       "    }\n",
       "</style>\n",
       "<table border=\"1\" class=\"dataframe\">\n",
       "  <thead>\n",
       "    <tr style=\"text-align: right;\">\n",
       "      <th></th>\n",
       "      <th>mean_test_score</th>\n",
       "      <th>std_test_score</th>\n",
       "      <th>params</th>\n",
       "    </tr>\n",
       "  </thead>\n",
       "  <tbody>\n",
       "    <tr>\n",
       "      <th>2</th>\n",
       "      <td>0.720961</td>\n",
       "      <td>0.011387</td>\n",
       "      <td>{'max_depth': 25, 'n_estimators': 100}</td>\n",
       "    </tr>\n",
       "    <tr>\n",
       "      <th>3</th>\n",
       "      <td>0.720884</td>\n",
       "      <td>0.011980</td>\n",
       "      <td>{'max_depth': 25, 'n_estimators': 105}</td>\n",
       "    </tr>\n",
       "    <tr>\n",
       "      <th>0</th>\n",
       "      <td>0.717143</td>\n",
       "      <td>0.011897</td>\n",
       "      <td>{'max_depth': 20, 'n_estimators': 100}</td>\n",
       "    </tr>\n",
       "    <tr>\n",
       "      <th>1</th>\n",
       "      <td>0.716338</td>\n",
       "      <td>0.013791</td>\n",
       "      <td>{'max_depth': 20, 'n_estimators': 105}</td>\n",
       "    </tr>\n",
       "  </tbody>\n",
       "</table>\n",
       "</div>"
      ],
      "text/plain": [
       "   mean_test_score  std_test_score                                  params\n",
       "2         0.720961        0.011387  {'max_depth': 25, 'n_estimators': 100}\n",
       "3         0.720884        0.011980  {'max_depth': 25, 'n_estimators': 105}\n",
       "0         0.717143        0.011897  {'max_depth': 20, 'n_estimators': 100}\n",
       "1         0.716338        0.013791  {'max_depth': 20, 'n_estimators': 105}"
      ]
     },
     "metadata": {},
     "output_type": "display_data"
    }
   ],
   "source": [
    "df_rf = pd.DataFrame(classifiers[5].cv_results_)[['mean_test_score', 'std_test_score', 'params']].sort_values(by=['mean_test_score'], ascending=False)\n",
    "display(df_rf.head())"
   ]
  },
  {
   "cell_type": "markdown",
   "metadata": {},
   "source": [
    "## Persistiendo el Preprocesador"
   ]
  },
  {
   "cell_type": "code",
   "execution_count": 21,
   "metadata": {},
   "outputs": [],
   "source": [
    "import pickle"
   ]
  },
  {
   "cell_type": "code",
   "execution_count": 22,
   "metadata": {},
   "outputs": [],
   "source": [
    "file = open(\"preprocesador.pkl\", \"wb\")\n",
    "pickle.dump(preprocessor, file)\n",
    "file.close()"
   ]
  },
  {
   "cell_type": "code",
   "execution_count": 23,
   "metadata": {},
   "outputs": [],
   "source": [
    "preprocesador = pickle.load(open(\"preprocesador.pkl\", \"rb\"))"
   ]
  },
  {
   "cell_type": "code",
   "execution_count": 24,
   "metadata": {},
   "outputs": [
    {
     "data": {
      "text/plain": [
       "array([[-0.40077854, -0.28265435, -0.43957279,  5.10098577,  2.40768707,\n",
       "         0.78449971,  0.41423218, -0.62439025, -0.83826726,  6.62034613,\n",
       "         3.92006613,  0.94446158, -0.89540149, -0.68563466, -0.26260594,\n",
       "        -0.50097111, -1.25049429, -0.62325088, -0.43196328, -0.69910718,\n",
       "        -1.17107678,  0.15835119,  1.10790977, -1.45256368,  0.        ,\n",
       "         1.        ,  0.        ,  0.        ,  0.        ,  0.        ,\n",
       "         0.        ,  0.        ,  0.        ,  0.        ,  0.        ,\n",
       "         0.        ,  0.        ,  0.        ,  0.        ,  0.        ,\n",
       "         1.        ,  0.        ,  0.        ,  0.        ,  0.        ,\n",
       "         0.        ,  0.        ,  0.        ,  0.        ,  0.        ,\n",
       "         0.        ,  0.        ,  0.        ,  0.        ,  0.        ,\n",
       "         0.        ,  0.        ,  0.        ,  0.        ,  0.        ,\n",
       "         0.        ,  0.        ,  0.        ,  0.        ,  0.        ,\n",
       "         0.        ,  0.        ,  0.        ,  0.        ,  0.        ,\n",
       "         0.        ,  0.        ,  0.        ,  0.        ,  0.        ,\n",
       "         0.        ,  0.        ,  1.        ]])"
      ]
     },
     "execution_count": 24,
     "metadata": {},
     "output_type": "execute_result"
    }
   ],
   "source": [
    "preprocesador.transform(X[1:2])"
   ]
  },
  {
   "cell_type": "code",
   "execution_count": 34,
   "metadata": {},
   "outputs": [
    {
     "name": "stdout",
     "output_type": "stream",
     "text": [
      "<class 'pandas.core.frame.DataFrame'>\n",
      "Int64Index: 1 entries, 1 to 1\n",
      "Data columns (total 27 columns):\n",
      "property_type            1 non-null object\n",
      "place_name               1 non-null object\n",
      "surface_total_in_m2      1 non-null float64\n",
      "surface_covered_in_m2    1 non-null float64\n",
      "rooms                    1 non-null float64\n",
      "cercania_subtes          1 non-null float64\n",
      "cercania_av              1 non-null float64\n",
      "cercania_tren            1 non-null float64\n",
      "cercania_bus             1 non-null float64\n",
      "cercania_hospi           1 non-null float64\n",
      "cercania_est_edu         1 non-null float64\n",
      "cercania_univ            1 non-null float64\n",
      "cercania_comisarias      1 non-null float64\n",
      "cercania_verde           1 non-null float64\n",
      "cant_deptos              1 non-null float64\n",
      "cant_subte               1 non-null float64\n",
      "cant_hospi               1 non-null float64\n",
      "cant_univ                1 non-null float64\n",
      "cant_edu                 1 non-null float64\n",
      "cant_banco               1 non-null float64\n",
      "cant_gastro              1 non-null float64\n",
      "cant_cult                1 non-null float64\n",
      "cant_delito              1 non-null float64\n",
      "surface_total_in_m2_t    1 non-null float64\n",
      "cocheras                 1 non-null int64\n",
      "amenities_ex             1 non-null float64\n",
      "estado                   1 non-null object\n",
      "dtypes: float64(23), int64(1), object(3)\n",
      "memory usage: 224.0+ bytes\n"
     ]
    }
   ],
   "source": [
    "X[1:2].info()"
   ]
  },
  {
   "cell_type": "markdown",
   "metadata": {},
   "source": [
    "## Persistiendo el modelo optimo"
   ]
  },
  {
   "cell_type": "code",
   "execution_count": 25,
   "metadata": {
    "scrolled": true
   },
   "outputs": [],
   "source": [
    "import pickle"
   ]
  },
  {
   "cell_type": "code",
   "execution_count": 26,
   "metadata": {},
   "outputs": [],
   "source": [
    "file = open(\"modelo.pkl\", \"wb\")\n",
    "pickle.dump(classifiers[5], file)\n",
    "file.close()"
   ]
  },
  {
   "cell_type": "code",
   "execution_count": 27,
   "metadata": {},
   "outputs": [],
   "source": [
    "modelo = pickle.load(open(\"modelo.pkl\", \"rb\"))"
   ]
  },
  {
   "cell_type": "code",
   "execution_count": 28,
   "metadata": {},
   "outputs": [
    {
     "data": {
      "text/plain": [
       "0.7209609428503836"
      ]
     },
     "execution_count": 28,
     "metadata": {},
     "output_type": "execute_result"
    }
   ],
   "source": [
    "modelo.best_score_"
   ]
  },
  {
   "cell_type": "code",
   "execution_count": 29,
   "metadata": {},
   "outputs": [
    {
     "data": {
      "text/plain": [
       "array([[-0.40077854, -0.28265435, -0.43957279,  5.10098577,  2.40768707,\n",
       "         0.78449971,  0.41423218, -0.62439025, -0.83826726,  6.62034613,\n",
       "         3.92006613,  0.94446158, -0.89540149, -0.68563466, -0.26260594,\n",
       "        -0.50097111, -1.25049429, -0.62325088, -0.43196328, -0.69910718,\n",
       "        -1.17107678,  0.15835119,  1.10790977, -1.45256368,  0.        ,\n",
       "         1.        ,  0.        ,  0.        ,  0.        ,  0.        ,\n",
       "         0.        ,  0.        ,  0.        ,  0.        ,  0.        ,\n",
       "         0.        ,  0.        ,  0.        ,  0.        ,  0.        ,\n",
       "         1.        ,  0.        ,  0.        ,  0.        ,  0.        ,\n",
       "         0.        ,  0.        ,  0.        ,  0.        ,  0.        ,\n",
       "         0.        ,  0.        ,  0.        ,  0.        ,  0.        ,\n",
       "         0.        ,  0.        ,  0.        ,  0.        ,  0.        ,\n",
       "         0.        ,  0.        ,  0.        ,  0.        ,  0.        ,\n",
       "         0.        ,  0.        ,  0.        ,  0.        ,  0.        ,\n",
       "         0.        ,  0.        ,  0.        ,  0.        ,  0.        ,\n",
       "         0.        ,  0.        ,  1.        ]])"
      ]
     },
     "execution_count": 29,
     "metadata": {},
     "output_type": "execute_result"
    }
   ],
   "source": [
    "preprocesador.transform(X[1:2])"
   ]
  },
  {
   "cell_type": "code",
   "execution_count": 30,
   "metadata": {},
   "outputs": [
    {
     "data": {
      "text/plain": [
       "array([2077.66725153])"
      ]
     },
     "execution_count": 30,
     "metadata": {},
     "output_type": "execute_result"
    }
   ],
   "source": [
    "modelo.predict(preprocesador.transform(X[1:2]))"
   ]
  },
  {
   "cell_type": "code",
   "execution_count": null,
   "metadata": {},
   "outputs": [],
   "source": []
  },
  {
   "cell_type": "code",
   "execution_count": null,
   "metadata": {},
   "outputs": [],
   "source": []
  },
  {
   "cell_type": "code",
   "execution_count": null,
   "metadata": {},
   "outputs": [],
   "source": []
  },
  {
   "cell_type": "code",
   "execution_count": null,
   "metadata": {},
   "outputs": [],
   "source": []
  },
  {
   "cell_type": "code",
   "execution_count": null,
   "metadata": {},
   "outputs": [],
   "source": []
  },
  {
   "cell_type": "code",
   "execution_count": null,
   "metadata": {},
   "outputs": [],
   "source": []
  }
 ],
 "metadata": {
  "kernelspec": {
   "display_name": "Python 3",
   "language": "python",
   "name": "python3"
  },
  "language_info": {
   "codemirror_mode": {
    "name": "ipython",
    "version": 3
   },
   "file_extension": ".py",
   "mimetype": "text/x-python",
   "name": "python",
   "nbconvert_exporter": "python",
   "pygments_lexer": "ipython3",
   "version": "3.7.1"
  }
 },
 "nbformat": 4,
 "nbformat_minor": 2
}
